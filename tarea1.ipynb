{
 "cells": [
  {
   "cell_type": "markdown",
   "metadata": {},
   "source": [
    "# Punto 1:\n",
    "\n",
    "- Descomprimir el archivo `.zip` de los poemas\n",
    "- Leer cada uno de sus archivos\n",
    "- Responder: ¿Cuál archivo tiene el mayor número de palabras?"
   ]
  },
  {
   "cell_type": "code",
   "execution_count": 31,
   "metadata": {},
   "outputs": [],
   "source": [
    "import pandas as pd"
   ]
  },
  {
   "cell_type": "code",
   "execution_count": 12,
   "metadata": {},
   "outputs": [],
   "source": [
    "import os\n",
    "from zipfile import ZipFile \n"
   ]
  },
  {
   "cell_type": "code",
   "execution_count": 13,
   "metadata": {},
   "outputs": [],
   "source": [
    "direccion = 'C:/Users/57314/Documents/Especializacion/Segundo Semestre/Analisi de texto/web scraping/poemas.zip'"
   ]
  },
  {
   "cell_type": "code",
   "execution_count": 14,
   "metadata": {},
   "outputs": [],
   "source": [
    "# Descomprimir el archivo ZIP\n",
    "with ZipFile(direccion) as archivo: \n",
    "    archivo.extractall('web scraping/') "
   ]
  },
  {
   "cell_type": "code",
   "execution_count": 15,
   "metadata": {},
   "outputs": [
    {
     "name": "stdout",
     "output_type": "stream",
     "text": [
      "('web scraping/poemas', [], ['A un general (Julio Corta╠üzar).txt', 'Aqui╠ü (Octavio Paz).txt', 'Si╠ündrome (Mario Benedetti).txt'])\n"
     ]
    }
   ],
   "source": [
    "for archivo in os.walk('web scraping/poemas'):\n",
    "    print(archivo)"
   ]
  },
  {
   "cell_type": "code",
   "execution_count": 16,
   "metadata": {},
   "outputs": [
    {
     "name": "stdout",
     "output_type": "stream",
     "text": [
      "A un general (Julio Corta╠üzar).txt\n",
      "Aqui╠ü (Octavio Paz).txt\n",
      "Si╠ündrome (Mario Benedetti).txt\n"
     ]
    }
   ],
   "source": [
    "for raiz, dirs, archivos in os.walk('web scraping/poemas'):\n",
    "        for archivo in archivos:\n",
    "            print(archivo)"
   ]
  },
  {
   "cell_type": "code",
   "execution_count": 17,
   "metadata": {},
   "outputs": [
    {
     "data": {
      "text/plain": [
       "['A un general (Julio Corta╠üzar).txt',\n",
       " 'Aqui╠ü (Octavio Paz).txt',\n",
       " 'Si╠ündrome (Mario Benedetti).txt']"
      ]
     },
     "execution_count": 17,
     "metadata": {},
     "output_type": "execute_result"
    }
   ],
   "source": [
    "poem=[]\n",
    "for raiz, dirs, archivos in os.walk('web scraping/poemas'):\n",
    "        for archivo in archivos:\n",
    "            poem.append(archivo)\n",
    "poem"
   ]
  },
  {
   "cell_type": "code",
   "execution_count": 61,
   "metadata": {},
   "outputs": [],
   "source": [
    "with open(\"C:/Users/57314/Documents/Especializacion/Segundo Semestre/Analisi de texto/web scraping/web scraping/poemas/A un general (Julio Corta╠üzar).txt\") as archivo1: \n",
    "    a_un_general = archivo1.read()\n",
    "\n",
    "with open(\"C:/Users/57314/Documents/Especializacion/Segundo Semestre/Analisi de texto/web scraping/web scraping/poemas/Aqui╠ü (Octavio Paz).txt\") as archivo2: \n",
    "    aqui_tu = archivo2.read()\n",
    "\n",
    "with open(\"C:/Users/57314/Documents/Especializacion/Segundo Semestre/Analisi de texto/web scraping/web scraping/poemas/Si╠ündrome (Mario Benedetti).txt\") as archivo3: \n",
    "    sindrome = archivo3.read()\n",
    "\n"
   ]
  },
  {
   "cell_type": "code",
   "execution_count": 63,
   "metadata": {},
   "outputs": [
    {
     "data": {
      "text/plain": [
       "[46, 23, 53]"
      ]
     },
     "execution_count": 63,
     "metadata": {},
     "output_type": "execute_result"
    }
   ],
   "source": [
    "\n",
    "\n",
    "[len(a_un_general.split()),len(aqui_tu.split()),len(sindrome.split())]\n"
   ]
  },
  {
   "cell_type": "markdown",
   "metadata": {},
   "source": [
    "# El poema con mayor numero de letras es \"A un general\" de Julio Cortazar\""
   ]
  },
  {
   "cell_type": "markdown",
   "metadata": {},
   "source": [
    "# Punto 2:\n",
    "\n",
    "- Hacer Web Scraping de 10 biografías en Wikipedia (en búcle)\n",
    "- Obtener el **encabezado** de cada biografía\n",
    "- Obtener todos los **contenidos** y **etiquetas de título** asociados a los **links** del primer párrafo"
   ]
  },
  {
   "cell_type": "code",
   "execution_count": null,
   "metadata": {},
   "outputs": [],
   "source": []
  },
  {
   "cell_type": "code",
   "execution_count": 1,
   "metadata": {},
   "outputs": [],
   "source": [
    "import bs4 as bs\n",
    "import urllib.request\n",
    "import pandas as pd\n",
    "import numpy as np"
   ]
  },
  {
   "cell_type": "code",
   "execution_count": 2,
   "metadata": {},
   "outputs": [],
   "source": [
    "link= \"https://es.wikipedia.org/wiki/Pulp_Fiction\"\n"
   ]
  },
  {
   "cell_type": "code",
   "execution_count": 3,
   "metadata": {},
   "outputs": [],
   "source": [
    "request= urllib.request.urlopen(link)\n",
    "fuente = request.read()\n",
    "request.close()"
   ]
  },
  {
   "cell_type": "code",
   "execution_count": 4,
   "metadata": {},
   "outputs": [
    {
     "data": {
      "text/plain": [
       "<title>Pulp Fiction - Wikipedia, la enciclopedia libre</title>"
      ]
     },
     "execution_count": 4,
     "metadata": {},
     "output_type": "execute_result"
    }
   ],
   "source": [
    "soup = bs.BeautifulSoup(fuente, 'html.parser')\n",
    "soup.find('title')"
   ]
  },
  {
   "cell_type": "code",
   "execution_count": 5,
   "metadata": {},
   "outputs": [
    {
     "data": {
      "text/plain": [
       "['/wiki/John_Travolta',\n",
       " '/wiki/Uma_Thurman',\n",
       " '/wiki/Bruce_Willis',\n",
       " '/wiki/Samuel_L._Jackson',\n",
       " '/wiki/Tim_Roth',\n",
       " '/wiki/Ving_Rhames',\n",
       " '/wiki/Harvey_Keitel',\n",
       " '/wiki/Amanda_Plummer',\n",
       " '/wiki/Frank_Whaley',\n",
       " '/wiki/Rosanna_Arquette']"
      ]
     },
     "execution_count": 5,
     "metadata": {},
     "output_type": "execute_result"
    }
   ],
   "source": [
    "a=range(2,32,3)\n",
    "c=[]\n",
    "for i in a:\n",
    "    b=soup.find(class_='wikitable').find_all('a')[i].get('href')\n",
    "    c.append(b)\n",
    "c\n"
   ]
  },
  {
   "cell_type": "code",
   "execution_count": 6,
   "metadata": {},
   "outputs": [
    {
     "data": {
      "text/plain": [
       "['https://es.wikipedia.org/wiki/John_Travolta',\n",
       " 'https://es.wikipedia.org/wiki/Uma_Thurman',\n",
       " 'https://es.wikipedia.org/wiki/Bruce_Willis',\n",
       " 'https://es.wikipedia.org/wiki/Samuel_L._Jackson',\n",
       " 'https://es.wikipedia.org/wiki/Tim_Roth',\n",
       " 'https://es.wikipedia.org/wiki/Ving_Rhames',\n",
       " 'https://es.wikipedia.org/wiki/Harvey_Keitel',\n",
       " 'https://es.wikipedia.org/wiki/Amanda_Plummer',\n",
       " 'https://es.wikipedia.org/wiki/Frank_Whaley',\n",
       " 'https://es.wikipedia.org/wiki/Rosanna_Arquette']"
      ]
     },
     "execution_count": 6,
     "metadata": {},
     "output_type": "execute_result"
    }
   ],
   "source": [
    "raiz ='https://es.wikipedia.org'\n",
    "dir1=[]\n",
    "for i in c:\n",
    "    dir1.append(raiz+i)\n",
    "\n",
    "  \n",
    "dir1"
   ]
  },
  {
   "cell_type": "code",
   "execution_count": 7,
   "metadata": {},
   "outputs": [
    {
     "data": {
      "text/plain": [
       "[['John Travolta'],\n",
       " ['Uma Thurman'],\n",
       " ['Bruce Willis'],\n",
       " ['Samuel L. Jackson'],\n",
       " ['Tim Roth'],\n",
       " ['Ving Rhames'],\n",
       " ['Harvey Keitel'],\n",
       " ['Amanda Plummer'],\n",
       " ['Frank Whaley'],\n",
       " ['Rosanna Arquette']]"
      ]
     },
     "execution_count": 7,
     "metadata": {},
     "output_type": "execute_result"
    }
   ],
   "source": [
    "titulo=[]\n",
    "for link in dir1:\n",
    "    request= urllib.request.urlopen(link)\n",
    "    fuente = request.read()\n",
    "    request.close()\n",
    "    soup = bs.BeautifulSoup(fuente, 'html.parser')\n",
    "    titulo.append(soup.find(id='firstHeading').contents)\n",
    "titulo   "
   ]
  },
  {
   "cell_type": "code",
   "execution_count": 8,
   "metadata": {},
   "outputs": [
    {
     "name": "stdout",
     "output_type": "stream",
     "text": [
      "['Englewood']\n",
      "['Nueva Jersey']\n",
      "['18 de febrero']\n",
      "['1954']\n",
      "['actor']\n",
      "['cantante']\n",
      "['bailarín']\n",
      "['piloto de avión']\n",
      "['productor']\n",
      "['estadounidense']\n",
      "['Globo de Oro']\n",
      "['Bafta']\n",
      "['años setenta']\n",
      "['séptimo arte']\n",
      "['Grease']\n",
      "['Saturday Night Fever']\n",
      "['años ochenta']\n",
      "['noventa']\n",
      "['Pulp Fiction']\n",
      "['Face/Off']\n",
      "['Swordfish']\n",
      "['Hairspray']\n",
      "['Welcome Back, Kotter,']\n",
      "[<a href=\"/wiki/Grease\" title=\"Grease\">Grease</a>]\n",
      "[<a href=\"/wiki/Saturday_Night_Fever\" title=\"Saturday Night Fever\">Saturday Night Fever</a>]\n",
      "[<a href=\"/wiki/Pulp_Fiction\" title=\"Pulp Fiction\">Pulp Fiction</a>]\n",
      "[<a href=\"/wiki/Face/Off\" title=\"Face/Off\">Face/Off</a>]\n",
      "[<a href=\"/wiki/Swordfish_(pel%C3%ADcula)\" title=\"Swordfish (película)\">Swordfish</a>]\n",
      "[<a href=\"/wiki/Hairspray_(pel%C3%ADcula_de_2007)\" title=\"Hairspray (película de 2007)\">Hairspray</a>]\n",
      "['Boston']\n",
      "['Massachusetts']\n",
      "['29 de abril']\n",
      "['1970']\n",
      "['actriz']\n",
      "['cine']\n",
      "['estadounidense']\n",
      "['Óscar']\n",
      "['Globo de Oro']\n",
      "['modelo']\n",
      "['dramas']\n",
      "['ciencia ficción']\n",
      "['acción']\n",
      "['suspense']\n",
      "['comedias']\n",
      "['románticas']\n",
      "['Idar-Oberstein']\n",
      "['Alemania Occidental']\n",
      "['19 de marzo']\n",
      "['1955']\n",
      "['actor']\n",
      "['productor']\n",
      "['estadounidense']\n",
      "['industria televisiva']\n",
      "['años 80']\n",
      "['películas']\n",
      "['cómicos']\n",
      "['dramáticos']\n",
      "['acción']\n",
      "['John McClane']\n",
      "[<i>Duro de matar</i>, ' (en España, ', <i>La jungla de Cristal</i>, ')']\n",
      "['1988']\n",
      "[<span class=\"corchete-llamada\">[</span>, '2', <span class=\"corchete-llamada\">]</span>]\n",
      "[<span class=\"corchete-llamada\">[</span>, '3', <span class=\"corchete-llamada\">]</span>]\n",
      "['Pulp Fiction']\n",
      "['Sin City']\n",
      "['Doce monos']\n",
      "['El quinto elemento']\n",
      "['Armageddon']\n",
      "['El sexto sentido']\n",
      "['El protegido']\n",
      "['Glass']\n",
      "['Looper']\n",
      "['Lucky Number Slevin']\n",
      "['Los Mercenarios']\n",
      "['Duro de matar']\n",
      "['La jungla de Cristal']\n",
      "[<a href=\"/wiki/Pulp_Fiction\" title=\"Pulp Fiction\">Pulp Fiction</a>]\n",
      "[<a href=\"/wiki/Sin_City_(pel%C3%ADcula)\" title=\"Sin City (película)\">Sin City</a>]\n",
      "[<a href=\"/wiki/Doce_monos\" title=\"Doce monos\">Doce monos</a>]\n",
      "[<a href=\"/wiki/El_quinto_elemento\" title=\"El quinto elemento\">El quinto elemento</a>]\n",
      "[<a href=\"/wiki/Armageddon_(pel%C3%ADcula)\" title=\"Armageddon (película)\">Armageddon</a>]\n",
      "[<a href=\"/wiki/The_Sixth_Sense\" title=\"The Sixth Sense\">El sexto sentido</a>]\n",
      "[<a href=\"/wiki/El_protegido\" title=\"El protegido\">El protegido</a>]\n",
      "[<a href=\"/wiki/Glass_(pel%C3%ADcula)\" title=\"Glass (película)\">Glass</a>]\n",
      "[<a class=\"mw-disambig\" href=\"/wiki/Looper\" title=\"Looper\">Looper</a>]\n",
      "[<a href=\"/wiki/Lucky_Number_Slevin\" title=\"Lucky Number Slevin\">Lucky Number Slevin</a>]\n",
      "[<a href=\"/wiki/The_Expendables\" title=\"The Expendables\">Los Mercenarios</a>]\n",
      "['Washington D. C.']\n",
      "['21 de diciembre']\n",
      "['1948']\n",
      "['actor']\n",
      "['productor de cine']\n",
      "['televisión']\n",
      "['teatro']\n",
      "['estadounidense']\n",
      "['premio Óscar']\n",
      "['Globos de Oro']\n",
      "['Premio del Sindicato de Actores']\n",
      "['BAFTA al mejor actor de reparto']\n",
      "[<span class=\"corchete-llamada\">[</span>, '1', <span class=\"corchete-llamada\">]</span>]\n",
      "['Coming to America']\n",
      "['Goodfellas']\n",
      "['Jurassic Park']\n",
      "['Pulp Fiction']\n",
      "['Die Hard with a Vengeance']\n",
      "['A Time to Kill']\n",
      "['El protegido']\n",
      "['Changing Lanes']\n",
      "['S.W.A.T.']\n",
      "['Django Unchained']\n",
      "['Universo cinematográfico de Marvel']\n",
      "['S.H.I.E.L.D.']\n",
      "['Nick Fury']\n",
      "['Star Wars']\n",
      "['Mace Windu']\n",
      "['The Hateful Eight']\n",
      "['superhéroe']\n",
      "['The Incredibles']\n",
      "['Turbo']\n",
      "['Astro Boy']\n",
      "['videojuego sandbox']\n",
      "['Grand Theft Auto San Andreas']\n",
      "[<a href=\"/wiki/Coming_to_America\" title=\"Coming to America\">Coming to America</a>]\n",
      "[<a href=\"/wiki/Goodfellas\" title=\"Goodfellas\">Goodfellas</a>]\n",
      "[<a href=\"/wiki/Parque_Jur%C3%A1sico_(pel%C3%ADcula)\" title=\"Parque Jurásico (película)\">Jurassic Park</a>]\n",
      "[<a href=\"/wiki/Pulp_Fiction\" title=\"Pulp Fiction\">Pulp Fiction</a>]\n",
      "[<a href=\"/wiki/Die_Hard_with_a_Vengeance\" title=\"Die Hard with a Vengeance\">Die Hard with a Vengeance</a>]\n",
      "[<a href=\"/wiki/A_Time_to_Kill_(pel%C3%ADcula)\" title=\"A Time to Kill (película)\">A Time to Kill</a>]\n",
      "[<a href=\"/wiki/El_protegido\" title=\"El protegido\">El protegido</a>]\n",
      "[<a href=\"/wiki/Changing_Lanes\" title=\"Changing Lanes\">Changing Lanes</a>]\n",
      "[<a href=\"/wiki/S.W.A.T._(pel%C3%ADcula)\" title=\"S.W.A.T. (película)\">S.W.A.T.</a>]\n",
      "[<a href=\"/wiki/Django_Unchained\" title=\"Django Unchained\">Django Unchained</a>]\n",
      "[<a href=\"/wiki/Star_Wars\" title=\"Star Wars\">Star Wars</a>]\n",
      "[<a href=\"/wiki/The_Hateful_Eight\" title=\"The Hateful Eight\">The Hateful Eight</a>]\n",
      "[<a class=\"mw-redirect\" href=\"/wiki/The_Incredibles\" title=\"The Incredibles\">The Incredibles</a>]\n",
      "[<a href=\"/wiki/Turbo_(pel%C3%ADcula)\" title=\"Turbo (película)\">Turbo</a>]\n",
      "[<a href=\"/wiki/Astro_Boy_(pel%C3%ADcula)\" title=\"Astro Boy (película)\">Astro Boy</a>]\n",
      "[<a class=\"mw-redirect\" href=\"/wiki/Grand_Theft_Auto_San_Andreas\" title=\"Grand Theft Auto San Andreas\">Grand Theft Auto San Andreas</a>]\n",
      "['Dulwich']\n",
      "['Londres']\n",
      "['Inglaterra']\n",
      "['14 de mayo']\n",
      "['1961']\n",
      "['Reservoir Dogs']\n",
      "['Four Rooms']\n",
      "['La leyenda del pianista en el océano']\n",
      "['Rob Roy']\n",
      "['The Incredible Hulk']\n",
      "['Pulp Fiction']\n",
      "['The Hateful Eight']\n",
      "['Lie to Me']\n",
      "['The War Zone']\n",
      "[<a href=\"/wiki/Reservoir_Dogs\" title=\"Reservoir Dogs\">Reservoir Dogs</a>]\n",
      "[<a href=\"/wiki/Four_Rooms\" title=\"Four Rooms\">Four Rooms</a>]\n",
      "[<a href=\"/wiki/La_leyenda_del_pianista_en_el_oc%C3%A9ano\" title=\"La leyenda del pianista en el océano\">La leyenda del pianista en el océano</a>]\n",
      "[<a href=\"/wiki/Rob_Roy_(pel%C3%ADcula)\" title=\"Rob Roy (película)\">Rob Roy</a>]\n",
      "[<a href=\"/wiki/The_Incredible_Hulk_(pel%C3%ADcula)\" title=\"The Incredible Hulk (película)\">The Incredible Hulk</a>]\n",
      "[<a href=\"/wiki/Pulp_Fiction\" title=\"Pulp Fiction\">Pulp Fiction</a>]\n",
      "[<a href=\"/wiki/The_Hateful_Eight\" title=\"The Hateful Eight\">The Hateful Eight</a>]\n",
      "[<a class=\"mw-redirect\" href=\"/wiki/Lie_to_Me_(serie_de_TV)\" title=\"Lie to Me (serie de TV)\">Lie to Me</a>]\n",
      "[<a class=\"new\" href=\"/w/index.php?title=The_War_Zone&amp;action=edit&amp;redlink=1\" title=\"The War Zone (aún no redactado)\">The War Zone</a>]\n",
      "['Nueva York']\n",
      "['12 de mayo']\n",
      "['1959']\n",
      "['actor']\n",
      "['estadounidense']\n",
      "['Globo de Oro']\n",
      "['Brooklyn']\n",
      "['Nueva York']\n",
      "['13 de mayo']\n",
      "['1939']\n",
      "['actor']\n",
      "['estadounidense']\n",
      "['premio Óscar']\n",
      "[<span class=\"corchete-llamada\">[</span>, '1', <span class=\"corchete-llamada\">]</span>]\n",
      "['La mirada de Ulises']\n",
      "['tipo duro']\n",
      "['El Piano']\n",
      "[<a href=\"/wiki/La_mirada_de_Ulises\" title=\"La mirada de Ulises\">La mirada de Ulises</a>]\n",
      "['Nueva York']\n",
      "['23 de marzo']\n",
      "['1957']\n",
      "[<span class=\"corchete-llamada\">[</span>, '1', <span class=\"corchete-llamada\">]</span>]\n",
      "['actriz']\n",
      "['estadounidense']\n",
      "['Emmy']\n",
      "['Tony']\n",
      "['Nueva York']\n",
      "['10 de agosto']\n",
      "['1959']\n",
      "['estadounidense']\n",
      "['Patricia']\n",
      "['Alexis']\n",
      "['David']\n",
      "['Richmond Arquette']\n"
     ]
    }
   ],
   "source": [
    "link=dir1\n",
    "for link in dir1:\n",
    "    request= urllib.request.urlopen(link)\n",
    "    fuente = request.read()\n",
    "    request.close()\n",
    "    soup = bs.BeautifulSoup(fuente, 'html.parser')\n",
    "    for i in soup.find(class_=\"mw-parser-output\").find('p').find_all('a'):\n",
    "        print(i.contents)\n",
    "    for h in soup.find(class_=\"mw-parser-output\").find('p').find_all('i'):\n",
    "        print(h.contents) \n"
   ]
  },
  {
   "cell_type": "code",
   "execution_count": 9,
   "metadata": {},
   "outputs": [
    {
     "name": "stdout",
     "output_type": "stream",
     "text": [
      "[[['Englewood'], ['Nueva Jersey'], ['18 de febrero'], ['1954'], ['actor'], ['cantante'], ['bailarín'], ['piloto de avión'], ['productor'], ['estadounidense'], ['Globo de Oro'], ['Bafta'], ['años setenta'], ['séptimo arte'], ['Grease'], ['Saturday Night Fever'], ['años ochenta'], ['noventa'], ['Pulp Fiction'], ['Face/Off'], ['Swordfish'], ['Hairspray'], ['Welcome Back, Kotter,'], [<a href=\"/wiki/Grease\" title=\"Grease\">Grease</a>], [<a href=\"/wiki/Saturday_Night_Fever\" title=\"Saturday Night Fever\">Saturday Night Fever</a>], [<a href=\"/wiki/Pulp_Fiction\" title=\"Pulp Fiction\">Pulp Fiction</a>], [<a href=\"/wiki/Face/Off\" title=\"Face/Off\">Face/Off</a>], [<a href=\"/wiki/Swordfish_(pel%C3%ADcula)\" title=\"Swordfish (película)\">Swordfish</a>], [<a href=\"/wiki/Hairspray_(pel%C3%ADcula_de_2007)\" title=\"Hairspray (película de 2007)\">Hairspray</a>]], [['Boston'], ['Massachusetts'], ['29 de abril'], ['1970'], ['actriz'], ['cine'], ['estadounidense'], ['Óscar'], ['Globo de Oro'], ['modelo'], ['dramas'], ['ciencia ficción'], ['acción'], ['suspense'], ['comedias'], ['románticas']], [['Idar-Oberstein'], ['Alemania Occidental'], ['19 de marzo'], ['1955'], ['actor'], ['productor'], ['estadounidense'], ['industria televisiva'], ['años 80'], ['películas'], ['cómicos'], ['dramáticos'], ['acción'], ['John McClane'], [<i>Duro de matar</i>, ' (en España, ', <i>La jungla de Cristal</i>, ')'], ['1988'], [<span class=\"corchete-llamada\">[</span>, '2', <span class=\"corchete-llamada\">]</span>], [<span class=\"corchete-llamada\">[</span>, '3', <span class=\"corchete-llamada\">]</span>], ['Pulp Fiction'], ['Sin City'], ['Doce monos'], ['El quinto elemento'], ['Armageddon'], ['El sexto sentido'], ['El protegido'], ['Glass'], ['Looper'], ['Lucky Number Slevin'], ['Los Mercenarios'], ['Duro de matar'], ['La jungla de Cristal'], [<a href=\"/wiki/Pulp_Fiction\" title=\"Pulp Fiction\">Pulp Fiction</a>], [<a href=\"/wiki/Sin_City_(pel%C3%ADcula)\" title=\"Sin City (película)\">Sin City</a>], [<a href=\"/wiki/Doce_monos\" title=\"Doce monos\">Doce monos</a>], [<a href=\"/wiki/El_quinto_elemento\" title=\"El quinto elemento\">El quinto elemento</a>], [<a href=\"/wiki/Armageddon_(pel%C3%ADcula)\" title=\"Armageddon (película)\">Armageddon</a>], [<a href=\"/wiki/The_Sixth_Sense\" title=\"The Sixth Sense\">El sexto sentido</a>], [<a href=\"/wiki/El_protegido\" title=\"El protegido\">El protegido</a>], [<a href=\"/wiki/Glass_(pel%C3%ADcula)\" title=\"Glass (película)\">Glass</a>], [<a class=\"mw-disambig\" href=\"/wiki/Looper\" title=\"Looper\">Looper</a>], [<a href=\"/wiki/Lucky_Number_Slevin\" title=\"Lucky Number Slevin\">Lucky Number Slevin</a>], [<a href=\"/wiki/The_Expendables\" title=\"The Expendables\">Los Mercenarios</a>]], [['Washington D. C.'], ['21 de diciembre'], ['1948'], ['actor'], ['productor de cine'], ['televisión'], ['teatro'], ['estadounidense'], ['premio Óscar'], ['Globos de Oro'], ['Premio del Sindicato de Actores'], ['BAFTA al mejor actor de reparto'], [<span class=\"corchete-llamada\">[</span>, '1', <span class=\"corchete-llamada\">]</span>], ['Coming to America'], ['Goodfellas'], ['Jurassic Park'], ['Pulp Fiction'], ['Die Hard with a Vengeance'], ['A Time to Kill'], ['El protegido'], ['Changing Lanes'], ['S.W.A.T.'], ['Django Unchained'], ['Universo cinematográfico de Marvel'], ['S.H.I.E.L.D.'], ['Nick Fury'], ['Star Wars'], ['Mace Windu'], ['The Hateful Eight'], ['superhéroe'], ['The Incredibles'], ['Turbo'], ['Astro Boy'], ['videojuego sandbox'], ['Grand Theft Auto San Andreas'], [<a href=\"/wiki/Coming_to_America\" title=\"Coming to America\">Coming to America</a>], [<a href=\"/wiki/Goodfellas\" title=\"Goodfellas\">Goodfellas</a>], [<a href=\"/wiki/Parque_Jur%C3%A1sico_(pel%C3%ADcula)\" title=\"Parque Jurásico (película)\">Jurassic Park</a>], [<a href=\"/wiki/Pulp_Fiction\" title=\"Pulp Fiction\">Pulp Fiction</a>], [<a href=\"/wiki/Die_Hard_with_a_Vengeance\" title=\"Die Hard with a Vengeance\">Die Hard with a Vengeance</a>], [<a href=\"/wiki/A_Time_to_Kill_(pel%C3%ADcula)\" title=\"A Time to Kill (película)\">A Time to Kill</a>], [<a href=\"/wiki/El_protegido\" title=\"El protegido\">El protegido</a>], [<a href=\"/wiki/Changing_Lanes\" title=\"Changing Lanes\">Changing Lanes</a>], [<a href=\"/wiki/S.W.A.T._(pel%C3%ADcula)\" title=\"S.W.A.T. (película)\">S.W.A.T.</a>], [<a href=\"/wiki/Django_Unchained\" title=\"Django Unchained\">Django Unchained</a>], [<a href=\"/wiki/Star_Wars\" title=\"Star Wars\">Star Wars</a>], [<a href=\"/wiki/The_Hateful_Eight\" title=\"The Hateful Eight\">The Hateful Eight</a>], [<a class=\"mw-redirect\" href=\"/wiki/The_Incredibles\" title=\"The Incredibles\">The Incredibles</a>], [<a href=\"/wiki/Turbo_(pel%C3%ADcula)\" title=\"Turbo (película)\">Turbo</a>], [<a href=\"/wiki/Astro_Boy_(pel%C3%ADcula)\" title=\"Astro Boy (película)\">Astro Boy</a>], [<a class=\"mw-redirect\" href=\"/wiki/Grand_Theft_Auto_San_Andreas\" title=\"Grand Theft Auto San Andreas\">Grand Theft Auto San Andreas</a>]], [['Dulwich'], ['Londres'], ['Inglaterra'], ['14 de mayo'], ['1961'], ['Reservoir Dogs'], ['Four Rooms'], ['La leyenda del pianista en el océano'], ['Rob Roy'], ['The Incredible Hulk'], ['Pulp Fiction'], ['The Hateful Eight'], ['Lie to Me'], ['The War Zone'], [<a href=\"/wiki/Reservoir_Dogs\" title=\"Reservoir Dogs\">Reservoir Dogs</a>], [<a href=\"/wiki/Four_Rooms\" title=\"Four Rooms\">Four Rooms</a>], [<a href=\"/wiki/La_leyenda_del_pianista_en_el_oc%C3%A9ano\" title=\"La leyenda del pianista en el océano\">La leyenda del pianista en el océano</a>], [<a href=\"/wiki/Rob_Roy_(pel%C3%ADcula)\" title=\"Rob Roy (película)\">Rob Roy</a>], [<a href=\"/wiki/The_Incredible_Hulk_(pel%C3%ADcula)\" title=\"The Incredible Hulk (película)\">The Incredible Hulk</a>], [<a href=\"/wiki/Pulp_Fiction\" title=\"Pulp Fiction\">Pulp Fiction</a>], [<a href=\"/wiki/The_Hateful_Eight\" title=\"The Hateful Eight\">The Hateful Eight</a>], [<a class=\"mw-redirect\" href=\"/wiki/Lie_to_Me_(serie_de_TV)\" title=\"Lie to Me (serie de TV)\">Lie to Me</a>], [<a class=\"new\" href=\"/w/index.php?title=The_War_Zone&amp;action=edit&amp;redlink=1\" title=\"The War Zone (aún no redactado)\">The War Zone</a>]], [['Nueva York'], ['12 de mayo'], ['1959'], ['actor'], ['estadounidense'], ['Globo de Oro']], [['Brooklyn'], ['Nueva York'], ['13 de mayo'], ['1939'], ['actor'], ['estadounidense'], ['premio Óscar'], [<span class=\"corchete-llamada\">[</span>, '1', <span class=\"corchete-llamada\">]</span>], ['La mirada de Ulises'], ['tipo duro'], ['El Piano'], [<a href=\"/wiki/La_mirada_de_Ulises\" title=\"La mirada de Ulises\">La mirada de Ulises</a>]], [['Nueva York'], ['23 de marzo'], ['1957'], [<span class=\"corchete-llamada\">[</span>, '1', <span class=\"corchete-llamada\">]</span>], ['actriz'], ['estadounidense'], ['Emmy'], ['Tony']], [], [['Nueva York'], ['10 de agosto'], ['1959'], ['estadounidense'], ['Patricia'], ['Alexis'], ['David'], ['Richmond Arquette']]]\n"
     ]
    }
   ],
   "source": [
    "link=dir1\n",
    "texto=[]\n",
    "for link in dir1:\n",
    "    f=[]\n",
    "    request= urllib.request.urlopen(link)\n",
    "    fuente = request.read()\n",
    "    request.close()\n",
    "    soup = bs.BeautifulSoup(fuente, 'html.parser')\n",
    "    for i in soup.find(class_=\"mw-parser-output\").find('p').find_all('a'):\n",
    "        f.append(i.contents)\n",
    "    for h in soup.find(class_=\"mw-parser-output\").find('p').find_all('i'):\n",
    "        f.append(h.contents) \n",
    "    texto.append(f)\n",
    "print(texto)"
   ]
  },
  {
   "cell_type": "code",
   "execution_count": 10,
   "metadata": {},
   "outputs": [
    {
     "data": {
      "text/plain": [
       "[['Englewood'],\n",
       " ['Nueva Jersey'],\n",
       " ['18 de febrero'],\n",
       " ['1954'],\n",
       " ['actor'],\n",
       " ['cantante'],\n",
       " ['bailarín'],\n",
       " ['piloto de avión'],\n",
       " ['productor'],\n",
       " ['estadounidense'],\n",
       " ['Globo de Oro'],\n",
       " ['Bafta'],\n",
       " ['años setenta'],\n",
       " ['séptimo arte'],\n",
       " ['Grease'],\n",
       " ['Saturday Night Fever'],\n",
       " ['años ochenta'],\n",
       " ['noventa'],\n",
       " ['Pulp Fiction'],\n",
       " ['Face/Off'],\n",
       " ['Swordfish'],\n",
       " ['Hairspray'],\n",
       " ['Welcome Back, Kotter,'],\n",
       " [<a href=\"/wiki/Grease\" title=\"Grease\">Grease</a>],\n",
       " [<a href=\"/wiki/Saturday_Night_Fever\" title=\"Saturday Night Fever\">Saturday Night Fever</a>],\n",
       " [<a href=\"/wiki/Pulp_Fiction\" title=\"Pulp Fiction\">Pulp Fiction</a>],\n",
       " [<a href=\"/wiki/Face/Off\" title=\"Face/Off\">Face/Off</a>],\n",
       " [<a href=\"/wiki/Swordfish_(pel%C3%ADcula)\" title=\"Swordfish (película)\">Swordfish</a>],\n",
       " [<a href=\"/wiki/Hairspray_(pel%C3%ADcula_de_2007)\" title=\"Hairspray (película de 2007)\">Hairspray</a>]]"
      ]
     },
     "execution_count": 10,
     "metadata": {},
     "output_type": "execute_result"
    }
   ],
   "source": [
    "dic={}\n",
    "for i in range(0,8):\n",
    "    dic.setdefault(str(titulo[i]),texto[i])\n",
    "\n",
    "dic[str(titulo[0])]"
   ]
  },
  {
   "cell_type": "code",
   "execution_count": 23,
   "metadata": {},
   "outputs": [
    {
     "name": "stdout",
     "output_type": "stream",
     "text": [
      "['John Travolta']\n"
     ]
    },
    {
     "data": {
      "text/plain": [
       "[['Englewood'],\n",
       " ['Nueva Jersey'],\n",
       " ['18 de febrero'],\n",
       " ['1954'],\n",
       " ['actor'],\n",
       " ['cantante'],\n",
       " ['bailarín'],\n",
       " ['piloto de avión'],\n",
       " ['productor'],\n",
       " ['estadounidense'],\n",
       " ['Globo de Oro'],\n",
       " ['Bafta'],\n",
       " ['años setenta'],\n",
       " ['séptimo arte'],\n",
       " ['Grease'],\n",
       " ['Saturday Night Fever'],\n",
       " ['años ochenta'],\n",
       " ['noventa'],\n",
       " ['Pulp Fiction'],\n",
       " ['Face/Off'],\n",
       " ['Swordfish'],\n",
       " ['Hairspray'],\n",
       " ['Welcome Back, Kotter,'],\n",
       " [<a href=\"/wiki/Grease\" title=\"Grease\">Grease</a>],\n",
       " [<a href=\"/wiki/Saturday_Night_Fever\" title=\"Saturday Night Fever\">Saturday Night Fever</a>],\n",
       " [<a href=\"/wiki/Pulp_Fiction\" title=\"Pulp Fiction\">Pulp Fiction</a>],\n",
       " [<a href=\"/wiki/Face/Off\" title=\"Face/Off\">Face/Off</a>],\n",
       " [<a href=\"/wiki/Swordfish_(pel%C3%ADcula)\" title=\"Swordfish (película)\">Swordfish</a>],\n",
       " [<a href=\"/wiki/Hairspray_(pel%C3%ADcula_de_2007)\" title=\"Hairspray (película de 2007)\">Hairspray</a>]]"
      ]
     },
     "execution_count": 23,
     "metadata": {},
     "output_type": "execute_result"
    }
   ],
   "source": [
    "num=0\n",
    "print(str(titulo[num]))\n",
    "dic[str(titulo[num])]"
   ]
  }
 ],
 "metadata": {
  "kernelspec": {
   "display_name": "Python 3",
   "language": "python",
   "name": "python3"
  },
  "language_info": {
   "codemirror_mode": {
    "name": "ipython",
    "version": 3
   },
   "file_extension": ".py",
   "mimetype": "text/x-python",
   "name": "python",
   "nbconvert_exporter": "python",
   "pygments_lexer": "ipython3",
   "version": "3.7.6"
  }
 },
 "nbformat": 4,
 "nbformat_minor": 4
}
